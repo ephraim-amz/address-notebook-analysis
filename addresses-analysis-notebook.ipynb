{
 "cells": [
  {
   "cell_type": "code",
   "id": "initial_id",
   "metadata": {
    "collapsed": true,
    "ExecuteTime": {
     "end_time": "2024-11-16T21:51:45.845237Z",
     "start_time": "2024-11-16T21:51:45.204509Z"
    }
   },
   "source": "import pandas as pd",
   "outputs": [],
   "execution_count": 1
  },
  {
   "metadata": {
    "ExecuteTime": {
     "end_time": "2024-11-16T21:51:53.331176Z",
     "start_time": "2024-11-16T21:51:53.314588Z"
    }
   },
   "cell_type": "code",
   "source": "df = pd.read_csv(\"addresses-notebook.csv\")",
   "id": "807628f5f96b4edc",
   "outputs": [],
   "execution_count": 2
  },
  {
   "metadata": {
    "ExecuteTime": {
     "end_time": "2024-11-16T21:51:55.968968Z",
     "start_time": "2024-11-16T21:51:55.925094Z"
    }
   },
   "cell_type": "code",
   "source": "df.describe()",
   "id": "ffbdc362135e7672",
   "outputs": [
    {
     "data": {
      "text/plain": [
       "               name                                            address  \\\n",
       "count           812                                                812   \n",
       "unique          809                                                807   \n",
       "top     Guimi House  Avenida 6 de Diciembre, N25-23, 170524 Quito, ...   \n",
       "freq              2                                                  2   \n",
       "\n",
       "              icon userComment tag1     tag2     tag3     tag4     tag5  \\\n",
       "count          810          91  812      805      618      269       76   \n",
       "unique          25          72   55       59       51       31       19   \n",
       "top     restaurant    Japonais   💸💸  À faire  À faire  À faire  À faire   \n",
       "freq           520           8  208      104      227       81       20   \n",
       "\n",
       "           tag6     tag7  \n",
       "count        21        5  \n",
       "unique        7        3  \n",
       "top     À faire  À faire  \n",
       "freq         12        3  "
      ],
      "text/html": [
       "<div>\n",
       "<style scoped>\n",
       "    .dataframe tbody tr th:only-of-type {\n",
       "        vertical-align: middle;\n",
       "    }\n",
       "\n",
       "    .dataframe tbody tr th {\n",
       "        vertical-align: top;\n",
       "    }\n",
       "\n",
       "    .dataframe thead th {\n",
       "        text-align: right;\n",
       "    }\n",
       "</style>\n",
       "<table border=\"1\" class=\"dataframe\">\n",
       "  <thead>\n",
       "    <tr style=\"text-align: right;\">\n",
       "      <th></th>\n",
       "      <th>name</th>\n",
       "      <th>address</th>\n",
       "      <th>icon</th>\n",
       "      <th>userComment</th>\n",
       "      <th>tag1</th>\n",
       "      <th>tag2</th>\n",
       "      <th>tag3</th>\n",
       "      <th>tag4</th>\n",
       "      <th>tag5</th>\n",
       "      <th>tag6</th>\n",
       "      <th>tag7</th>\n",
       "    </tr>\n",
       "  </thead>\n",
       "  <tbody>\n",
       "    <tr>\n",
       "      <th>count</th>\n",
       "      <td>812</td>\n",
       "      <td>812</td>\n",
       "      <td>810</td>\n",
       "      <td>91</td>\n",
       "      <td>812</td>\n",
       "      <td>805</td>\n",
       "      <td>618</td>\n",
       "      <td>269</td>\n",
       "      <td>76</td>\n",
       "      <td>21</td>\n",
       "      <td>5</td>\n",
       "    </tr>\n",
       "    <tr>\n",
       "      <th>unique</th>\n",
       "      <td>809</td>\n",
       "      <td>807</td>\n",
       "      <td>25</td>\n",
       "      <td>72</td>\n",
       "      <td>55</td>\n",
       "      <td>59</td>\n",
       "      <td>51</td>\n",
       "      <td>31</td>\n",
       "      <td>19</td>\n",
       "      <td>7</td>\n",
       "      <td>3</td>\n",
       "    </tr>\n",
       "    <tr>\n",
       "      <th>top</th>\n",
       "      <td>Guimi House</td>\n",
       "      <td>Avenida 6 de Diciembre, N25-23, 170524 Quito, ...</td>\n",
       "      <td>restaurant</td>\n",
       "      <td>Japonais</td>\n",
       "      <td>💸💸</td>\n",
       "      <td>À faire</td>\n",
       "      <td>À faire</td>\n",
       "      <td>À faire</td>\n",
       "      <td>À faire</td>\n",
       "      <td>À faire</td>\n",
       "      <td>À faire</td>\n",
       "    </tr>\n",
       "    <tr>\n",
       "      <th>freq</th>\n",
       "      <td>2</td>\n",
       "      <td>2</td>\n",
       "      <td>520</td>\n",
       "      <td>8</td>\n",
       "      <td>208</td>\n",
       "      <td>104</td>\n",
       "      <td>227</td>\n",
       "      <td>81</td>\n",
       "      <td>20</td>\n",
       "      <td>12</td>\n",
       "      <td>3</td>\n",
       "    </tr>\n",
       "  </tbody>\n",
       "</table>\n",
       "</div>"
      ]
     },
     "execution_count": 3,
     "metadata": {},
     "output_type": "execute_result"
    }
   ],
   "execution_count": 3
  },
  {
   "metadata": {},
   "cell_type": "code",
   "outputs": [],
   "execution_count": null,
   "source": "df['']",
   "id": "d3fe080402681fb8"
  }
 ],
 "metadata": {
  "kernelspec": {
   "display_name": "Python 3",
   "language": "python",
   "name": "python3"
  },
  "language_info": {
   "codemirror_mode": {
    "name": "ipython",
    "version": 2
   },
   "file_extension": ".py",
   "mimetype": "text/x-python",
   "name": "python",
   "nbconvert_exporter": "python",
   "pygments_lexer": "ipython2",
   "version": "2.7.6"
  }
 },
 "nbformat": 4,
 "nbformat_minor": 5
}
